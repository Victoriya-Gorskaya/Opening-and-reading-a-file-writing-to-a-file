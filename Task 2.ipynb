{
 "cells": [
  {
   "cell_type": "code",
   "execution_count": 86,
   "metadata": {},
   "outputs": [
    {
     "data": {
      "text/plain": [
       "{'Говядина': {'measure': 'г', 'quantity': 2500},\n",
       " 'Перец сладкий': {'measure': 'шт', 'quantity': 5},\n",
       " 'Лаваш': {'measure': 'шт', 'quantity': 10},\n",
       " 'Винный уксус': {'measure': 'ст.л', 'quantity': 5},\n",
       " 'Помидор': {'measure': 'шт', 'quantity': 10}}"
      ]
     },
     "execution_count": 86,
     "metadata": {},
     "output_type": "execute_result"
    }
   ],
   "source": [
    "dishes_dict = {}\n",
    "\n",
    "with open('recipes.txt', 'rt', encoding = 'utf8') as file:\n",
    "    for dish in file:\n",
    "        dish_name = dish.strip()\n",
    "        recipes = {dish_name: []}\n",
    "        quantity_of_ingredients = file.readline()\n",
    "        for portions in range(int(quantity_of_ingredients)):\n",
    "            products = file.readline()\n",
    "            ingredient_name, quantity, measure = products.strip().split(' | ')\n",
    "            recipes[dish_name].append({'ingredient_name' : ingredient_name,\n",
    "                                     'quantity': quantity,\n",
    "                                     'measure': measure})\n",
    "        blank_line = file.readline()\n",
    "        dishes_dict.update(recipes)\n",
    "\n",
    "# print(f\"cook_book = {dishes_dict}\")\n",
    "\n",
    "def get_shop_list_by_dishes(dishes, person_count):\n",
    "    shop_list = {}\n",
    "    \n",
    "    for dish, ingredients in dishes_dict.items():\n",
    "        if dishes == dish:\n",
    "            for position in ingredients:\n",
    "                ingredient_name = position['ingredient_name']\n",
    "                measure = position['measure']\n",
    "                quantity = int(position['quantity'])\n",
    "                shop_l = {ingredient_name : {}}\n",
    "                shop_l[ingredient_name] = {'measure': measure, 'quantity': quantity * person_count}\n",
    "                shop_list.update(shop_l)\n",
    "    return shop_list\n",
    "\n",
    "get_shop_list_by_dishes('Фахитос', 5)\n",
    "\n"
   ]
  }
 ],
 "metadata": {
  "kernelspec": {
   "display_name": "Python 3.10.7 64-bit (microsoft store)",
   "language": "python",
   "name": "python3"
  },
  "language_info": {
   "codemirror_mode": {
    "name": "ipython",
    "version": 3
   },
   "file_extension": ".py",
   "mimetype": "text/x-python",
   "name": "python",
   "nbconvert_exporter": "python",
   "pygments_lexer": "ipython3",
   "version": "3.10.7"
  },
  "orig_nbformat": 4,
  "vscode": {
   "interpreter": {
    "hash": "d743b4dc9ec3684cdd86441980026b6286852b04eff304e96f02dbf5f1a15134"
   }
  }
 },
 "nbformat": 4,
 "nbformat_minor": 2
}
