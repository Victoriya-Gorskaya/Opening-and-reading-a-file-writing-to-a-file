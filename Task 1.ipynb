{
 "cells": [
  {
   "cell_type": "code",
   "execution_count": 32,
   "metadata": {},
   "outputs": [
    {
     "name": "stdout",
     "output_type": "stream",
     "text": [
      "cook_book = {'Омлет': [{'ingredient_name': 'Яйцо', 'quantity': '2', 'measure': 'шт'}, {'ingredient_name': 'Молоко', 'quantity': '100', 'measure': 'мл'}, {'ingredient_name': 'Помидор', 'quantity': '2', 'measure': 'шт'}], 'Утка по-пекински': [{'ingredient_name': 'Утка', 'quantity': '1', 'measure': 'шт'}, {'ingredient_name': 'Вода', 'quantity': '2', 'measure': 'л'}, {'ingredient_name': 'Мед', 'quantity': '3', 'measure': 'ст.л'}, {'ingredient_name': 'Соевый соус', 'quantity': '60', 'measure': 'мл'}], 'Запеченный картофель': [{'ingredient_name': 'Картофель', 'quantity': '1', 'measure': 'кг'}, {'ingredient_name': 'Чеснок', 'quantity': '3', 'measure': 'зубч'}, {'ingredient_name': 'Сыр гауда', 'quantity': '100', 'measure': 'г'}], 'Фахитос': [{'ingredient_name': 'Говядина', 'quantity': '500', 'measure': 'г'}, {'ingredient_name': 'Перец сладкий', 'quantity': '1', 'measure': 'шт'}, {'ingredient_name': 'Лаваш', 'quantity': '2', 'measure': 'шт'}, {'ingredient_name': 'Винный уксус', 'quantity': '1', 'measure': 'ст.л'}, {'ingredient_name': 'Помидор', 'quantity': '2', 'measure': 'шт'}]}\n",
      "\n"
     ]
    }
   ],
   "source": [
    "dishes = {}\n",
    "\n",
    "with open('recipes.txt', 'rt', encoding = 'utf8') as file:\n",
    "    for dish in file:\n",
    "        dish_name = dish.strip()\n",
    "        recipes = {dish_name: []}\n",
    "        quantity_of_ingredients = file.readline()\n",
    "        for portions in range(int(quantity_of_ingredients)):\n",
    "            products = file.readline()\n",
    "            ingredient_name, quantity, measure = products.strip().split(' | ')\n",
    "            recipes[dish_name].append({'ingredient_name' : ingredient_name,\n",
    "                                     'quantity': quantity,\n",
    "                                     'measure': measure})\n",
    "        blank_line = file.readline()\n",
    "        dishes.update(recipes)\n",
    "\n",
    "print(f\"cook_book = {dishes}\")\n"
   ]
  }
 ],
 "metadata": {
  "kernelspec": {
   "display_name": "Python 3.10.7 64-bit (microsoft store)",
   "language": "python",
   "name": "python3"
  },
  "language_info": {
   "codemirror_mode": {
    "name": "ipython",
    "version": 3
   },
   "file_extension": ".py",
   "mimetype": "text/x-python",
   "name": "python",
   "nbconvert_exporter": "python",
   "pygments_lexer": "ipython3",
   "version": "3.10.7"
  },
  "orig_nbformat": 4,
  "vscode": {
   "interpreter": {
    "hash": "d743b4dc9ec3684cdd86441980026b6286852b04eff304e96f02dbf5f1a15134"
   }
  }
 },
 "nbformat": 4,
 "nbformat_minor": 2
}
