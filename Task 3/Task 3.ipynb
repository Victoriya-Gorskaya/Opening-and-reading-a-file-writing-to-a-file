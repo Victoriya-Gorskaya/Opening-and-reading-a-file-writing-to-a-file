{
 "cells": [
  {
   "cell_type": "code",
   "execution_count": 19,
   "metadata": {},
   "outputs": [
    {
     "name": "stdout",
     "output_type": "stream",
     "text": [
      "result.txt\n",
      "0\n",
      "\n",
      "\n",
      "\n",
      "2.txt\n",
      "1\n",
      "Тревога началась в тринадцать часов ноль две минуты. \n",
      "\n",
      "\n",
      "1.txt\n",
      "8\n",
      "Начальник  полиции\n",
      "лично позвонил в шестнадцатый участок. А спустя  одну минуту тридцать секунд\n",
      "в дежурке и других комнатах нижнего этажа раздались звонки\n",
      "     Когда Иенсен  --  комиссар  шестнадцатого  участка --  вышел  из своего\n",
      "кабинета,  звонки еще  не смолкли. Иенсен был мужчина средних лет,  обычного\n",
      "сложения, с лицом плоским и невыразительным. На последней ступеньке винтовой\n",
      "лестницы  он задержался  и  обвел взглядом помещение дежурки. Затем поправил\n",
      "галстук и проследовал к машине.\n",
      "\n",
      "\n",
      "3.txt\n",
      "9\n",
      "В  это время  дня  машины текли сплошным  блестящим  потоком,  а  среди\n",
      "потока, будто  колонны из бетона  и стекла, высились  здания. Здесь,  в мире\n",
      "резких граней,  люди  на тротуарах  выглядели  несчастными и  неприкаянными.\n",
      "Одеты они были хорошо, но как-то удивительно походили друг на друга и все до\n",
      "одного спешили. Они шли нестройными  вереницами, широко разливались, завидев\n",
      "красный  светофор или  металлический  блеск кафе-автоматов.  Они непрестанно\n",
      "озирались по сторонам и теребили портфели и сумочки.\n",
      "     Полицейские  машины  с  включенными  сиренами  пробивались  сквозь  эту\n",
      "толчею.\n",
      "\n",
      "\n"
     ]
    }
   ],
   "source": [
    "s3 = []\n",
    "str_n = 0\n",
    "import os\n",
    "list_text = [i for i in os.listdir() if i.endswith('.txt')]\n",
    "list_text.sort()\n",
    "with open('result.txt','w', encoding = 'utf8') as f:\n",
    "    for file in list_text:\n",
    "        s = open((file), encoding = 'utf8').readlines()\n",
    "        str_n = len(s)\n",
    "        s3.append(str_n)\n",
    "    list_len = sorted(s3)   \n",
    "    for num in list_len:\n",
    "        for file in list_text:\n",
    "            s1 = open((file), encoding = 'utf8').readlines()\n",
    "            if len(s1) == num:\n",
    "                print(file)\n",
    "                print(num)\n",
    "                s2 = open((file), encoding = 'utf8').read()\n",
    "                print(s2)\n",
    "                print('\\n')\n",
    "                                               \n",
    "                f.write(file)\n",
    "                f.write('\\n')\n",
    "                f.write(f'{num}')\n",
    "                f.write('\\n')\n",
    "                f.write(s2)\n",
    "                f.write('\\n')\n",
    "\n",
    "\n",
    "\n"
   ]
  }
 ],
 "metadata": {
  "kernelspec": {
   "display_name": "Python 3.10.7 64-bit (microsoft store)",
   "language": "python",
   "name": "python3"
  },
  "language_info": {
   "codemirror_mode": {
    "name": "ipython",
    "version": 3
   },
   "file_extension": ".py",
   "mimetype": "text/x-python",
   "name": "python",
   "nbconvert_exporter": "python",
   "pygments_lexer": "ipython3",
   "version": "3.10.7"
  },
  "orig_nbformat": 4,
  "vscode": {
   "interpreter": {
    "hash": "d743b4dc9ec3684cdd86441980026b6286852b04eff304e96f02dbf5f1a15134"
   }
  }
 },
 "nbformat": 4,
 "nbformat_minor": 2
}
